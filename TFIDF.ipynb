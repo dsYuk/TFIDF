{
 "cells": [
  {
   "cell_type": "code",
   "execution_count": 12,
   "id": "b403bfce",
   "metadata": {},
   "outputs": [],
   "source": [
    "import pandas as pd\n",
    "import seaborn as sns\n",
    "from math import log\n",
    "from collections import Counter"
   ]
  },
  {
   "cell_type": "code",
   "execution_count": 2,
   "id": "50597c1e",
   "metadata": {},
   "outputs": [],
   "source": [
    "docs = [\n",
    "    \"This animal is elephant\",\n",
    "    \"That animal is cat\",\n",
    "    \"These animals are dogs\",\n",
    "    \"Those are animals\",\n",
    "]"
   ]
  },
  {
   "cell_type": "code",
   "execution_count": 3,
   "id": "f6a562bf",
   "metadata": {},
   "outputs": [
    {
     "data": {
      "text/plain": [
       "[['This', 'animal', 'is', 'elephant'],\n",
       " ['That', 'animal', 'is', 'cat'],\n",
       " ['These', 'animals', 'are', 'dogs'],\n",
       " ['Those', 'are', 'animals']]"
      ]
     },
     "execution_count": 3,
     "metadata": {},
     "output_type": "execute_result"
    }
   ],
   "source": [
    "tk_docs = []\n",
    "for c in docs:\n",
    "    words = c.split()\n",
    "    tk_docs.append(words)\n",
    "    \n",
    "tk_docs"
   ]
  },
  {
   "cell_type": "code",
   "execution_count": 4,
   "id": "d51fc2b6",
   "metadata": {},
   "outputs": [
    {
     "data": {
      "text/plain": [
       "['This',\n",
       " 'animal',\n",
       " 'is',\n",
       " 'elephant',\n",
       " 'That',\n",
       " 'cat',\n",
       " 'These',\n",
       " 'animals',\n",
       " 'are',\n",
       " 'dogs',\n",
       " 'Those']"
      ]
     },
     "execution_count": 4,
     "metadata": {},
     "output_type": "execute_result"
    }
   ],
   "source": [
    "vocab = []\n",
    "for c in tk_docs:\n",
    "    for word in c:\n",
    "        if word not in vocab:\n",
    "            vocab.append(word)\n",
    "\n",
    "vocab"
   ]
  },
  {
   "cell_type": "code",
   "execution_count": 5,
   "id": "8cd8e43a",
   "metadata": {},
   "outputs": [],
   "source": [
    "def tf(t, words):\n",
    "    count = 0\n",
    "    for word in words:\n",
    "        if word == t:\n",
    "            count += 1\n",
    "    return count\n",
    "\n",
    "def idf(t):\n",
    "    df = 0\n",
    "    for words in tk_docs:\n",
    "        if t in words:\n",
    "            df += 1\n",
    "    return log(len(docs) / df)"
   ]
  },
  {
   "cell_type": "code",
   "execution_count": 7,
   "id": "5bf780db",
   "metadata": {},
   "outputs": [
    {
     "data": {
      "text/html": [
       "<div>\n",
       "<style scoped>\n",
       "    .dataframe tbody tr th:only-of-type {\n",
       "        vertical-align: middle;\n",
       "    }\n",
       "\n",
       "    .dataframe tbody tr th {\n",
       "        vertical-align: top;\n",
       "    }\n",
       "\n",
       "    .dataframe thead th {\n",
       "        text-align: right;\n",
       "    }\n",
       "</style>\n",
       "<table border=\"1\" class=\"dataframe\">\n",
       "  <thead>\n",
       "    <tr style=\"text-align: right;\">\n",
       "      <th></th>\n",
       "      <th>This</th>\n",
       "      <th>animal</th>\n",
       "      <th>is</th>\n",
       "      <th>elephant</th>\n",
       "      <th>That</th>\n",
       "      <th>cat</th>\n",
       "      <th>These</th>\n",
       "      <th>animals</th>\n",
       "      <th>are</th>\n",
       "      <th>dogs</th>\n",
       "      <th>Those</th>\n",
       "    </tr>\n",
       "  </thead>\n",
       "  <tbody>\n",
       "    <tr>\n",
       "      <th>0</th>\n",
       "      <td>1</td>\n",
       "      <td>1</td>\n",
       "      <td>1</td>\n",
       "      <td>1</td>\n",
       "      <td>0</td>\n",
       "      <td>0</td>\n",
       "      <td>0</td>\n",
       "      <td>0</td>\n",
       "      <td>0</td>\n",
       "      <td>0</td>\n",
       "      <td>0</td>\n",
       "    </tr>\n",
       "    <tr>\n",
       "      <th>1</th>\n",
       "      <td>0</td>\n",
       "      <td>1</td>\n",
       "      <td>1</td>\n",
       "      <td>0</td>\n",
       "      <td>1</td>\n",
       "      <td>1</td>\n",
       "      <td>0</td>\n",
       "      <td>0</td>\n",
       "      <td>0</td>\n",
       "      <td>0</td>\n",
       "      <td>0</td>\n",
       "    </tr>\n",
       "    <tr>\n",
       "      <th>2</th>\n",
       "      <td>0</td>\n",
       "      <td>0</td>\n",
       "      <td>0</td>\n",
       "      <td>0</td>\n",
       "      <td>0</td>\n",
       "      <td>0</td>\n",
       "      <td>1</td>\n",
       "      <td>1</td>\n",
       "      <td>1</td>\n",
       "      <td>1</td>\n",
       "      <td>0</td>\n",
       "    </tr>\n",
       "    <tr>\n",
       "      <th>3</th>\n",
       "      <td>0</td>\n",
       "      <td>0</td>\n",
       "      <td>0</td>\n",
       "      <td>0</td>\n",
       "      <td>0</td>\n",
       "      <td>0</td>\n",
       "      <td>0</td>\n",
       "      <td>1</td>\n",
       "      <td>1</td>\n",
       "      <td>0</td>\n",
       "      <td>1</td>\n",
       "    </tr>\n",
       "  </tbody>\n",
       "</table>\n",
       "</div>"
      ],
      "text/plain": [
       "   This  animal  is  elephant  That  cat  These  animals  are  dogs  Those\n",
       "0     1       1   1         1     0    0      0        0    0     0      0\n",
       "1     0       1   1         0     1    1      0        0    0     0      0\n",
       "2     0       0   0         0     0    0      1        1    1     1      0\n",
       "3     0       0   0         0     0    0      0        1    1     0      1"
      ]
     },
     "execution_count": 7,
     "metadata": {},
     "output_type": "execute_result"
    }
   ],
   "source": [
    "tf_matrix = []\n",
    "for words in tk_docs:\n",
    "    row = []\n",
    "    for t in vocab:\n",
    "        row.append(tf(t, words))\n",
    "    tf_matrix.append(row)\n",
    "    \n",
    "tf_df = pd.DataFrame(tf_matrix, columns=vocab)\n",
    "tf_df"
   ]
  },
  {
   "cell_type": "code",
   "execution_count": 8,
   "id": "aaae43d2",
   "metadata": {},
   "outputs": [
    {
     "data": {
      "text/html": [
       "<div>\n",
       "<style scoped>\n",
       "    .dataframe tbody tr th:only-of-type {\n",
       "        vertical-align: middle;\n",
       "    }\n",
       "\n",
       "    .dataframe tbody tr th {\n",
       "        vertical-align: top;\n",
       "    }\n",
       "\n",
       "    .dataframe thead th {\n",
       "        text-align: right;\n",
       "    }\n",
       "</style>\n",
       "<table border=\"1\" class=\"dataframe\">\n",
       "  <thead>\n",
       "    <tr style=\"text-align: right;\">\n",
       "      <th></th>\n",
       "      <th>IDF</th>\n",
       "    </tr>\n",
       "  </thead>\n",
       "  <tbody>\n",
       "    <tr>\n",
       "      <th>This</th>\n",
       "      <td>1.386294</td>\n",
       "    </tr>\n",
       "    <tr>\n",
       "      <th>animal</th>\n",
       "      <td>0.693147</td>\n",
       "    </tr>\n",
       "    <tr>\n",
       "      <th>is</th>\n",
       "      <td>0.693147</td>\n",
       "    </tr>\n",
       "    <tr>\n",
       "      <th>elephant</th>\n",
       "      <td>1.386294</td>\n",
       "    </tr>\n",
       "    <tr>\n",
       "      <th>That</th>\n",
       "      <td>1.386294</td>\n",
       "    </tr>\n",
       "    <tr>\n",
       "      <th>cat</th>\n",
       "      <td>1.386294</td>\n",
       "    </tr>\n",
       "    <tr>\n",
       "      <th>These</th>\n",
       "      <td>1.386294</td>\n",
       "    </tr>\n",
       "    <tr>\n",
       "      <th>animals</th>\n",
       "      <td>0.693147</td>\n",
       "    </tr>\n",
       "    <tr>\n",
       "      <th>are</th>\n",
       "      <td>0.693147</td>\n",
       "    </tr>\n",
       "    <tr>\n",
       "      <th>dogs</th>\n",
       "      <td>1.386294</td>\n",
       "    </tr>\n",
       "    <tr>\n",
       "      <th>Those</th>\n",
       "      <td>1.386294</td>\n",
       "    </tr>\n",
       "  </tbody>\n",
       "</table>\n",
       "</div>"
      ],
      "text/plain": [
       "               IDF\n",
       "This      1.386294\n",
       "animal    0.693147\n",
       "is        0.693147\n",
       "elephant  1.386294\n",
       "That      1.386294\n",
       "cat       1.386294\n",
       "These     1.386294\n",
       "animals   0.693147\n",
       "are       0.693147\n",
       "dogs      1.386294\n",
       "Those     1.386294"
      ]
     },
     "execution_count": 8,
     "metadata": {},
     "output_type": "execute_result"
    }
   ],
   "source": [
    "idf_vector = []\n",
    "for t in vocab:\n",
    "    idf_value = idf(t)\n",
    "    idf_vector.append(idf_value)\n",
    "\n",
    "idf_df = pd.DataFrame(idf_vector, index=vocab, columns=[\"IDF\"])\n",
    "idf_df"
   ]
  },
  {
   "cell_type": "code",
   "execution_count": 10,
   "id": "403c267e",
   "metadata": {},
   "outputs": [
    {
     "data": {
      "text/html": [
       "<div>\n",
       "<style scoped>\n",
       "    .dataframe tbody tr th:only-of-type {\n",
       "        vertical-align: middle;\n",
       "    }\n",
       "\n",
       "    .dataframe tbody tr th {\n",
       "        vertical-align: top;\n",
       "    }\n",
       "\n",
       "    .dataframe thead th {\n",
       "        text-align: right;\n",
       "    }\n",
       "</style>\n",
       "<table border=\"1\" class=\"dataframe\">\n",
       "  <thead>\n",
       "    <tr style=\"text-align: right;\">\n",
       "      <th></th>\n",
       "      <th>This</th>\n",
       "      <th>animal</th>\n",
       "      <th>is</th>\n",
       "      <th>elephant</th>\n",
       "      <th>That</th>\n",
       "      <th>cat</th>\n",
       "      <th>These</th>\n",
       "      <th>animals</th>\n",
       "      <th>are</th>\n",
       "      <th>dogs</th>\n",
       "      <th>Those</th>\n",
       "    </tr>\n",
       "  </thead>\n",
       "  <tbody>\n",
       "    <tr>\n",
       "      <th>0</th>\n",
       "      <td>1.386294</td>\n",
       "      <td>0.693147</td>\n",
       "      <td>0.693147</td>\n",
       "      <td>1.386294</td>\n",
       "      <td>0.000000</td>\n",
       "      <td>0.000000</td>\n",
       "      <td>0.000000</td>\n",
       "      <td>0.000000</td>\n",
       "      <td>0.000000</td>\n",
       "      <td>0.000000</td>\n",
       "      <td>0.000000</td>\n",
       "    </tr>\n",
       "    <tr>\n",
       "      <th>1</th>\n",
       "      <td>0.000000</td>\n",
       "      <td>0.693147</td>\n",
       "      <td>0.693147</td>\n",
       "      <td>0.000000</td>\n",
       "      <td>1.386294</td>\n",
       "      <td>1.386294</td>\n",
       "      <td>0.000000</td>\n",
       "      <td>0.000000</td>\n",
       "      <td>0.000000</td>\n",
       "      <td>0.000000</td>\n",
       "      <td>0.000000</td>\n",
       "    </tr>\n",
       "    <tr>\n",
       "      <th>2</th>\n",
       "      <td>0.000000</td>\n",
       "      <td>0.000000</td>\n",
       "      <td>0.000000</td>\n",
       "      <td>0.000000</td>\n",
       "      <td>0.000000</td>\n",
       "      <td>0.000000</td>\n",
       "      <td>1.386294</td>\n",
       "      <td>0.693147</td>\n",
       "      <td>0.693147</td>\n",
       "      <td>1.386294</td>\n",
       "      <td>0.000000</td>\n",
       "    </tr>\n",
       "    <tr>\n",
       "      <th>3</th>\n",
       "      <td>0.000000</td>\n",
       "      <td>0.000000</td>\n",
       "      <td>0.000000</td>\n",
       "      <td>0.000000</td>\n",
       "      <td>0.000000</td>\n",
       "      <td>0.000000</td>\n",
       "      <td>0.000000</td>\n",
       "      <td>0.693147</td>\n",
       "      <td>0.693147</td>\n",
       "      <td>0.000000</td>\n",
       "      <td>1.386294</td>\n",
       "    </tr>\n",
       "  </tbody>\n",
       "</table>\n",
       "</div>"
      ],
      "text/plain": [
       "       This    animal        is  elephant      That       cat     These  \\\n",
       "0  1.386294  0.693147  0.693147  1.386294  0.000000  0.000000  0.000000   \n",
       "1  0.000000  0.693147  0.693147  0.000000  1.386294  1.386294  0.000000   \n",
       "2  0.000000  0.000000  0.000000  0.000000  0.000000  0.000000  1.386294   \n",
       "3  0.000000  0.000000  0.000000  0.000000  0.000000  0.000000  0.000000   \n",
       "\n",
       "    animals       are      dogs     Those  \n",
       "0  0.000000  0.000000  0.000000  0.000000  \n",
       "1  0.000000  0.000000  0.000000  0.000000  \n",
       "2  0.693147  0.693147  1.386294  0.000000  \n",
       "3  0.693147  0.693147  0.000000  1.386294  "
      ]
     },
     "execution_count": 10,
     "metadata": {},
     "output_type": "execute_result"
    }
   ],
   "source": [
    "tfidf_matrix = []\n",
    "for words in tk_docs:\n",
    "    row = []\n",
    "    for t in vocab:\n",
    "        tf_value = tf(t, words)\n",
    "        idf_value = idf(t)\n",
    "        row.append(tf_value * idf_value)\n",
    "    tfidf_matrix.append(row)\n",
    "\n",
    "tfidf_df = pd.DataFrame(tfidf_matrix, columns=vocab)\n",
    "tfidf_df"
   ]
  },
  {
   "cell_type": "code",
   "execution_count": 15,
   "id": "9e9be1b1",
   "metadata": {},
   "outputs": [
    {
     "data": {
      "text/plain": [
       "<AxesSubplot:>"
      ]
     },
     "execution_count": 15,
     "metadata": {},
     "output_type": "execute_result"
    },
    {
     "data": {
      "image/png": "[encoded data removed]",
      "text/plain": [
       "<Figure size 432x288 with 2 Axes>"
      ]
     },
     "metadata": {
      "needs_background": "light"
     },
     "output_type": "display_data"
    }
   ],
   "source": [
    "sns.heatmap(tfidf_df, annot=True, fmt=\".2f\", cmap=\"YlGnBu\")"
   ]
  },
  {
   "cell_type": "code",
   "execution_count": null,
   "id": "c8402c6d",
   "metadata": {},
   "outputs": [],
   "source": []
  }
 ],
 "metadata": {
  "kernelspec": {
   "display_name": "Python 3 (ipykernel)",
   "language": "python",
   "name": "python3"
  },
  "language_info": {
   "codemirror_mode": {
    "name": "ipython",
    "version": 3
   },
   "file_extension": ".py",
   "mimetype": "text/x-python",
   "name": "python",
   "nbconvert_exporter": "python",
   "pygments_lexer": "ipython3",
   "version": "3.9.12"
  }
 },
 "nbformat": 4,
 "nbformat_minor": 5
}
